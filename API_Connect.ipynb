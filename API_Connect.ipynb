{
 "cells": [
  {
   "cell_type": "code",
   "execution_count": 2,
   "metadata": {},
   "outputs": [],
   "source": [
    "# Import dependencies\n",
    "import pandas as pd\n",
    "from sodapy import Socrata"
   ]
  },
  {
   "cell_type": "code",
   "execution_count": 3,
   "metadata": {},
   "outputs": [
    {
     "name": "stderr",
     "output_type": "stream",
     "text": [
      "WARNING:root:Requests made without an app_token will be subject to strict throttling limits.\n"
     ]
    }
   ],
   "source": [
    "# Unauthenticated client only works with public data sets. Note 'None'\n",
    "# in place of application token, and no username or password:\n",
    "client = Socrata(\"chronicdata.cdc.gov\", None)"
   ]
  },
  {
   "cell_type": "code",
   "execution_count": 4,
   "metadata": {},
   "outputs": [],
   "source": [
    "# Return results as csv from API / converted to Python list of\n",
    "# dictionaries by sodapy.\n",
    "results = client.get(\"swc5-untb\", limit=2000000)"
   ]
  },
  {
   "cell_type": "code",
   "execution_count": 5,
   "metadata": {},
   "outputs": [],
   "source": [
    "# Convert to pandas DataFrame\n",
    "results_df = pd.DataFrame.from_records(results)"
   ]
  },
  {
   "cell_type": "code",
   "execution_count": 6,
   "metadata": {},
   "outputs": [],
   "source": [
    "# Display dataframe\n",
    "results_df.head()\n",
    "\n",
    "# View all columns in dataframes\n",
    "pd.set_option('display.max_columns', None)  "
   ]
  },
  {
   "cell_type": "code",
   "execution_count": 7,
   "metadata": {},
   "outputs": [
    {
     "data": {
      "text/plain": [
       "array(['HIGHCHOL', 'LPA', 'MHLTH', 'DEPRESSION', 'STROKE', 'CASTHMA',\n",
       "       'BPHIGH', 'DIABETES', 'DENTAL', 'BINGE', 'COPD', 'COREW',\n",
       "       'CERVICAL', 'CHD', 'PHLTH', 'BPMED', 'COLON_SCREEN', 'KIDNEY',\n",
       "       'CHOLSCREEN', 'COREM', 'SLEEP', 'CSMOKING', 'MAMMOUSE',\n",
       "       'ARTHRITIS', 'ACCESS2', 'TEETHLOST', 'CANCER', 'GHLTH', 'CHECKUP',\n",
       "       'OBESITY'], dtype=object)"
      ]
     },
     "execution_count": 7,
     "metadata": {},
     "output_type": "execute_result"
    }
   ],
   "source": [
    "# View unique values in measureid column\n",
    "results_df['measureid'].unique()"
   ]
  },
  {
   "cell_type": "code",
   "execution_count": 8,
   "metadata": {},
   "outputs": [
    {
     "data": {
      "text/plain": [
       "array(['Health Outcomes', 'Health Risk Behaviors', 'Health Status',\n",
       "       'Prevention'], dtype=object)"
      ]
     },
     "execution_count": 8,
     "metadata": {},
     "output_type": "execute_result"
    }
   ],
   "source": [
    "# View unique values in category column\n",
    "results_df['category'].unique()"
   ]
  },
  {
   "cell_type": "code",
   "execution_count": 14,
   "metadata": {},
   "outputs": [
    {
     "data": {
      "text/plain": [
       "array(['LPA', 'MHLTH', 'DENTAL', 'BINGE', 'COREW', 'CERVICAL', 'PHLTH',\n",
       "       'BPMED', 'COLON_SCREEN', 'CHOLSCREEN', 'COREM', 'SLEEP',\n",
       "       'CSMOKING', 'MAMMOUSE', 'ACCESS2', 'GHLTH', 'CHECKUP'],\n",
       "      dtype=object)"
      ]
     },
     "execution_count": 14,
     "metadata": {},
     "output_type": "execute_result"
    }
   ],
   "source": [
    "# View measureid where category is 'Prevention' or Health Risk Behaviors' or 'Health Status'\n",
    "results_df.loc[results_df['category'].isin(['Prevention', 'Health Risk Behaviors', 'Health Status'])]['measureid'].unique()\n",
    "\n",
    "# Add these items to a list\n",
    "health_factors = results_df.loc[results_df['category'].isin(['Prevention', 'Health Risk Behaviors', 'Health Status'])]['measureid'].unique()\n",
    "\n",
    "# View list\n",
    "health_factors"
   ]
  },
  {
   "cell_type": "code",
   "execution_count": 9,
   "metadata": {},
   "outputs": [
    {
     "data": {
      "text/plain": [
       "array(['2019', '2020'], dtype=object)"
      ]
     },
     "execution_count": 9,
     "metadata": {},
     "output_type": "execute_result"
    }
   ],
   "source": [
    "# View unique values in year column\n",
    "results_df['year'].unique()"
   ]
  },
  {
   "cell_type": "code",
   "execution_count": 10,
   "metadata": {},
   "outputs": [
    {
     "data": {
      "text/html": [
       "<div>\n",
       "<style scoped>\n",
       "    .dataframe tbody tr th:only-of-type {\n",
       "        vertical-align: middle;\n",
       "    }\n",
       "\n",
       "    .dataframe tbody tr th {\n",
       "        vertical-align: top;\n",
       "    }\n",
       "\n",
       "    .dataframe thead th {\n",
       "        text-align: right;\n",
       "    }\n",
       "</style>\n",
       "<table border=\"1\" class=\"dataframe\">\n",
       "  <thead>\n",
       "    <tr style=\"text-align: right;\">\n",
       "      <th></th>\n",
       "      <th>year</th>\n",
       "      <th>stateabbr</th>\n",
       "      <th>statedesc</th>\n",
       "      <th>locationname</th>\n",
       "      <th>datasource</th>\n",
       "      <th>category</th>\n",
       "      <th>measure</th>\n",
       "      <th>data_value_unit</th>\n",
       "      <th>data_value_type</th>\n",
       "      <th>data_value</th>\n",
       "      <th>low_confidence_limit</th>\n",
       "      <th>high_confidence_limit</th>\n",
       "      <th>totalpopulation</th>\n",
       "      <th>locationid</th>\n",
       "      <th>categoryid</th>\n",
       "      <th>measureid</th>\n",
       "      <th>datavaluetypeid</th>\n",
       "      <th>short_question_text</th>\n",
       "      <th>geolocation</th>\n",
       "      <th>:@computed_region_bxsw_vy29</th>\n",
       "      <th>:@computed_region_he4y_prf8</th>\n",
       "    </tr>\n",
       "  </thead>\n",
       "  <tbody>\n",
       "    <tr>\n",
       "      <th>12</th>\n",
       "      <td>2020</td>\n",
       "      <td>WY</td>\n",
       "      <td>Wyoming</td>\n",
       "      <td>Niobrara</td>\n",
       "      <td>BRFSS</td>\n",
       "      <td>Health Outcomes</td>\n",
       "      <td>Chronic obstructive pulmonary disease among ad...</td>\n",
       "      <td>%</td>\n",
       "      <td>Age-adjusted prevalence</td>\n",
       "      <td>8.4</td>\n",
       "      <td>7.3</td>\n",
       "      <td>9.5</td>\n",
       "      <td>2275</td>\n",
       "      <td>56027</td>\n",
       "      <td>HLTHOUT</td>\n",
       "      <td>COPD</td>\n",
       "      <td>AgeAdjPrv</td>\n",
       "      <td>COPD</td>\n",
       "      <td>{'type': 'Point', 'coordinates': [-104.4683727...</td>\n",
       "      <td>14</td>\n",
       "      <td>3121</td>\n",
       "    </tr>\n",
       "    <tr>\n",
       "      <th>38</th>\n",
       "      <td>2020</td>\n",
       "      <td>WY</td>\n",
       "      <td>Wyoming</td>\n",
       "      <td>Sheridan</td>\n",
       "      <td>BRFSS</td>\n",
       "      <td>Health Outcomes</td>\n",
       "      <td>Chronic obstructive pulmonary disease among ad...</td>\n",
       "      <td>%</td>\n",
       "      <td>Age-adjusted prevalence</td>\n",
       "      <td>5.7</td>\n",
       "      <td>4.9</td>\n",
       "      <td>6.6</td>\n",
       "      <td>30863</td>\n",
       "      <td>56033</td>\n",
       "      <td>HLTHOUT</td>\n",
       "      <td>COPD</td>\n",
       "      <td>AgeAdjPrv</td>\n",
       "      <td>COPD</td>\n",
       "      <td>{'type': 'Point', 'coordinates': [-106.8812114...</td>\n",
       "      <td>14</td>\n",
       "      <td>3123</td>\n",
       "    </tr>\n",
       "    <tr>\n",
       "      <th>39</th>\n",
       "      <td>2020</td>\n",
       "      <td>WY</td>\n",
       "      <td>Wyoming</td>\n",
       "      <td>Hot Springs</td>\n",
       "      <td>BRFSS</td>\n",
       "      <td>Health Outcomes</td>\n",
       "      <td>Chronic obstructive pulmonary disease among ad...</td>\n",
       "      <td>%</td>\n",
       "      <td>Age-adjusted prevalence</td>\n",
       "      <td>6.8</td>\n",
       "      <td>5.9</td>\n",
       "      <td>7.9</td>\n",
       "      <td>4425</td>\n",
       "      <td>56017</td>\n",
       "      <td>HLTHOUT</td>\n",
       "      <td>COPD</td>\n",
       "      <td>AgeAdjPrv</td>\n",
       "      <td>COPD</td>\n",
       "      <td>{'type': 'Point', 'coordinates': [-108.4350765...</td>\n",
       "      <td>14</td>\n",
       "      <td>3117</td>\n",
       "    </tr>\n",
       "  </tbody>\n",
       "</table>\n",
       "</div>"
      ],
      "text/plain": [
       "    year stateabbr statedesc locationname datasource         category  \\\n",
       "12  2020        WY   Wyoming     Niobrara      BRFSS  Health Outcomes   \n",
       "38  2020        WY   Wyoming     Sheridan      BRFSS  Health Outcomes   \n",
       "39  2020        WY   Wyoming  Hot Springs      BRFSS  Health Outcomes   \n",
       "\n",
       "                                              measure data_value_unit  \\\n",
       "12  Chronic obstructive pulmonary disease among ad...               %   \n",
       "38  Chronic obstructive pulmonary disease among ad...               %   \n",
       "39  Chronic obstructive pulmonary disease among ad...               %   \n",
       "\n",
       "            data_value_type data_value low_confidence_limit  \\\n",
       "12  Age-adjusted prevalence        8.4                  7.3   \n",
       "38  Age-adjusted prevalence        5.7                  4.9   \n",
       "39  Age-adjusted prevalence        6.8                  5.9   \n",
       "\n",
       "   high_confidence_limit totalpopulation locationid categoryid measureid  \\\n",
       "12                   9.5            2275      56027    HLTHOUT      COPD   \n",
       "38                   6.6           30863      56033    HLTHOUT      COPD   \n",
       "39                   7.9            4425      56017    HLTHOUT      COPD   \n",
       "\n",
       "   datavaluetypeid short_question_text  \\\n",
       "12       AgeAdjPrv                COPD   \n",
       "38       AgeAdjPrv                COPD   \n",
       "39       AgeAdjPrv                COPD   \n",
       "\n",
       "                                          geolocation  \\\n",
       "12  {'type': 'Point', 'coordinates': [-104.4683727...   \n",
       "38  {'type': 'Point', 'coordinates': [-106.8812114...   \n",
       "39  {'type': 'Point', 'coordinates': [-108.4350765...   \n",
       "\n",
       "   :@computed_region_bxsw_vy29 :@computed_region_he4y_prf8  \n",
       "12                          14                        3121  \n",
       "38                          14                        3123  \n",
       "39                          14                        3117  "
      ]
     },
     "execution_count": 10,
     "metadata": {},
     "output_type": "execute_result"
    }
   ],
   "source": [
    "# Create the COPD dataframe by filtering results_df\n",
    "copd_df = results_df.loc[results_df[\"measureid\"] == \"COPD\", :]\n",
    "\n",
    "# Filter copd_df where data_value_type is Age-adjusted Prevalence\n",
    "copd_df = copd_df.loc[copd_df[\"data_value_type\"] == \"Age-adjusted prevalence\", :]\n",
    "\n",
    "# Display dataframe and view all columns\n",
    "copd_df.head(3)"
   ]
  },
  {
   "cell_type": "code",
   "execution_count": 11,
   "metadata": {},
   "outputs": [
    {
     "data": {
      "text/html": [
       "<div>\n",
       "<style scoped>\n",
       "    .dataframe tbody tr th:only-of-type {\n",
       "        vertical-align: middle;\n",
       "    }\n",
       "\n",
       "    .dataframe tbody tr th {\n",
       "        vertical-align: top;\n",
       "    }\n",
       "\n",
       "    .dataframe thead th {\n",
       "        text-align: right;\n",
       "    }\n",
       "</style>\n",
       "<table border=\"1\" class=\"dataframe\">\n",
       "  <thead>\n",
       "    <tr style=\"text-align: right;\">\n",
       "      <th></th>\n",
       "      <th>year</th>\n",
       "      <th>stateabbr</th>\n",
       "      <th>statedesc</th>\n",
       "      <th>locationname</th>\n",
       "      <th>datasource</th>\n",
       "      <th>category</th>\n",
       "      <th>measure</th>\n",
       "      <th>data_value_unit</th>\n",
       "      <th>data_value_type</th>\n",
       "      <th>data_value</th>\n",
       "      <th>low_confidence_limit</th>\n",
       "      <th>high_confidence_limit</th>\n",
       "      <th>totalpopulation</th>\n",
       "      <th>locationid</th>\n",
       "      <th>categoryid</th>\n",
       "      <th>measureid</th>\n",
       "      <th>datavaluetypeid</th>\n",
       "      <th>short_question_text</th>\n",
       "      <th>geolocation</th>\n",
       "      <th>:@computed_region_bxsw_vy29</th>\n",
       "      <th>:@computed_region_he4y_prf8</th>\n",
       "    </tr>\n",
       "  </thead>\n",
       "  <tbody>\n",
       "    <tr>\n",
       "      <th>81</th>\n",
       "      <td>2020</td>\n",
       "      <td>WY</td>\n",
       "      <td>Wyoming</td>\n",
       "      <td>Park</td>\n",
       "      <td>BRFSS</td>\n",
       "      <td>Health Risk Behaviors</td>\n",
       "      <td>Current smoking among adults aged &gt;=18 years</td>\n",
       "      <td>%</td>\n",
       "      <td>Age-adjusted prevalence</td>\n",
       "      <td>15.9</td>\n",
       "      <td>13.0</td>\n",
       "      <td>19.0</td>\n",
       "      <td>29331</td>\n",
       "      <td>56029</td>\n",
       "      <td>RISKBEH</td>\n",
       "      <td>CSMOKING</td>\n",
       "      <td>AgeAdjPrv</td>\n",
       "      <td>Current Smoking</td>\n",
       "      <td>{'type': 'Point', 'coordinates': [-109.5935975...</td>\n",
       "      <td>14</td>\n",
       "      <td>3122</td>\n",
       "    </tr>\n",
       "    <tr>\n",
       "      <th>141</th>\n",
       "      <td>2020</td>\n",
       "      <td>WY</td>\n",
       "      <td>Wyoming</td>\n",
       "      <td>Fremont</td>\n",
       "      <td>BRFSS</td>\n",
       "      <td>Health Risk Behaviors</td>\n",
       "      <td>Current smoking among adults aged &gt;=18 years</td>\n",
       "      <td>%</td>\n",
       "      <td>Age-adjusted prevalence</td>\n",
       "      <td>22.0</td>\n",
       "      <td>19.1</td>\n",
       "      <td>24.8</td>\n",
       "      <td>39317</td>\n",
       "      <td>56013</td>\n",
       "      <td>RISKBEH</td>\n",
       "      <td>CSMOKING</td>\n",
       "      <td>AgeAdjPrv</td>\n",
       "      <td>Current Smoking</td>\n",
       "      <td>{'type': 'Point', 'coordinates': [-108.6089349...</td>\n",
       "      <td>14</td>\n",
       "      <td>3084</td>\n",
       "    </tr>\n",
       "    <tr>\n",
       "      <th>156</th>\n",
       "      <td>2020</td>\n",
       "      <td>WY</td>\n",
       "      <td>Wyoming</td>\n",
       "      <td>Sheridan</td>\n",
       "      <td>BRFSS</td>\n",
       "      <td>Health Risk Behaviors</td>\n",
       "      <td>Current smoking among adults aged &gt;=18 years</td>\n",
       "      <td>%</td>\n",
       "      <td>Age-adjusted prevalence</td>\n",
       "      <td>17.6</td>\n",
       "      <td>14.4</td>\n",
       "      <td>20.8</td>\n",
       "      <td>30863</td>\n",
       "      <td>56033</td>\n",
       "      <td>RISKBEH</td>\n",
       "      <td>CSMOKING</td>\n",
       "      <td>AgeAdjPrv</td>\n",
       "      <td>Current Smoking</td>\n",
       "      <td>{'type': 'Point', 'coordinates': [-106.8812114...</td>\n",
       "      <td>14</td>\n",
       "      <td>3123</td>\n",
       "    </tr>\n",
       "  </tbody>\n",
       "</table>\n",
       "</div>"
      ],
      "text/plain": [
       "     year stateabbr statedesc locationname datasource               category  \\\n",
       "81   2020        WY   Wyoming         Park      BRFSS  Health Risk Behaviors   \n",
       "141  2020        WY   Wyoming      Fremont      BRFSS  Health Risk Behaviors   \n",
       "156  2020        WY   Wyoming     Sheridan      BRFSS  Health Risk Behaviors   \n",
       "\n",
       "                                          measure data_value_unit  \\\n",
       "81   Current smoking among adults aged >=18 years               %   \n",
       "141  Current smoking among adults aged >=18 years               %   \n",
       "156  Current smoking among adults aged >=18 years               %   \n",
       "\n",
       "             data_value_type data_value low_confidence_limit  \\\n",
       "81   Age-adjusted prevalence       15.9                 13.0   \n",
       "141  Age-adjusted prevalence       22.0                 19.1   \n",
       "156  Age-adjusted prevalence       17.6                 14.4   \n",
       "\n",
       "    high_confidence_limit totalpopulation locationid categoryid measureid  \\\n",
       "81                   19.0           29331      56029    RISKBEH  CSMOKING   \n",
       "141                  24.8           39317      56013    RISKBEH  CSMOKING   \n",
       "156                  20.8           30863      56033    RISKBEH  CSMOKING   \n",
       "\n",
       "    datavaluetypeid short_question_text  \\\n",
       "81        AgeAdjPrv     Current Smoking   \n",
       "141       AgeAdjPrv     Current Smoking   \n",
       "156       AgeAdjPrv     Current Smoking   \n",
       "\n",
       "                                           geolocation  \\\n",
       "81   {'type': 'Point', 'coordinates': [-109.5935975...   \n",
       "141  {'type': 'Point', 'coordinates': [-108.6089349...   \n",
       "156  {'type': 'Point', 'coordinates': [-106.8812114...   \n",
       "\n",
       "    :@computed_region_bxsw_vy29 :@computed_region_he4y_prf8  \n",
       "81                           14                        3122  \n",
       "141                          14                        3084  \n",
       "156                          14                        3123  "
      ]
     },
     "execution_count": 11,
     "metadata": {},
     "output_type": "execute_result"
    }
   ],
   "source": [
    "# Create the smokers dataframe by filtering results_df\n",
    "smokers_df = results_df.loc[results_df[\"measureid\"] == \"CSMOKING\", :]\n",
    "\n",
    "# Filter smokers_df where data_value_type is Age-adjusted prevalence\n",
    "smokers_df = smokers_df.loc[smokers_df[\"data_value_type\"] == \"Age-adjusted prevalence\", :]\n",
    "\n",
    "# Display dataframe\n",
    "smokers_df.head(3)"
   ]
  },
  {
   "cell_type": "code",
   "execution_count": 12,
   "metadata": {},
   "outputs": [],
   "source": [
    "# # Remove uninformative columns\n",
    "# copd_df = copd_df.drop([\"datasource\", \"category\", \"\"], axis=1)\n",
    "\n",
    "# # smokers_df = smokers_df.drop([\"Data_Value_Footnote\", \"Year\", \"DataSource\",\n",
    "# #                            \"Data_Value_Footnote_Symbol\", \"Data_Value_Footnote\",\n",
    "# #                            \"CategoryID\", \"MeasureId\", \"DataValueTypeID\",\n",
    "# #                            \"Short_Question_Text\", \"Category\", \"LocationName\",\n",
    "# #                            \"StateAbbr\", \"StateDesc\"], axis=1)"
   ]
  },
  {
   "cell_type": "code",
   "execution_count": null,
   "metadata": {},
   "outputs": [],
   "source": []
  }
 ],
 "metadata": {
  "kernelspec": {
   "display_name": "mlenv2",
   "language": "python",
   "name": "python3"
  },
  "language_info": {
   "codemirror_mode": {
    "name": "ipython",
    "version": 3
   },
   "file_extension": ".py",
   "mimetype": "text/x-python",
   "name": "python",
   "nbconvert_exporter": "python",
   "pygments_lexer": "ipython3",
   "version": "3.7.13"
  },
  "orig_nbformat": 4
 },
 "nbformat": 4,
 "nbformat_minor": 2
}
